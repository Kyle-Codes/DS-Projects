{
 "cells": [
  {
   "cell_type": "markdown",
   "metadata": {},
   "source": [
    "# <strong> The Goal </strong>\n",
    "Provide a specific set of recommendations on how to improve The Client's business based on the provided data. Provide the recommendations and any supporting analyses and assumptions.\n",
    "# <strong> Approach </strong>\n",
    "## 1. QA Data \n",
    "- confirm all data is present and entered correctly. If null values are present, determine whether to \n",
    "    1) drop row values\n",
    "    2) impute null values using other row indicators, if applicable\n",
    "    \n",
    "## 2. Exploratory Data Analysis\n",
    "- look for trends in the data and see if any obvious patterns emerge. Make sure data trends make sense - if they do not, reevaluate data quality and determine reason for discrepancy\n",
    "- look for patterns that emerge (or don't)\n",
    "- identify target metrics for improvement\n",
    "    \n",
    "## 3. (Time Permitting) Competitive Analysis / ML Analysis \n",
    "- compare The Client data to competitors (e.g. DoorDash, UberEats, GrubHub, and proprietary food delivery services like Domino's) and identify gaps / competitive advantages\n",
    "- using the sklearn library, utilize the appropriate models to look for most impactful indicators to either further exploit advantages or close gaps\n"
   ]
  },
  {
   "cell_type": "markdown",
   "metadata": {},
   "source": [
    "# PHASE 1: Import & QA the dataset"
   ]
  },
  {
   "cell_type": "markdown",
   "metadata": {},
   "source": [
    "## 1a) Import the dataset and instantiate the dataframe"
   ]
  },
  {
   "cell_type": "raw",
   "metadata": {},
   "source": [
    "Data values and definitions: \n",
    "\n",
    "Customer placed order datetime: Time that customer placed the order; the format is <day> <hour>:<minute>:<second>\n",
    "Placed order with restaurant datetime: Time that restaurant received order; the format is <day> <hour>:<minute>:<second>\n",
    "Driver at restaurant datetime: Time that driver arrives at restaurant; the format is <day> <hour>:<minute>:<second>\n",
    "Delivered to consumer datetime: Time that driver delivered to customer; the format is <day> <hour>:<minute>:<second>\n",
    "Driver ID: Unique identifier of driver\n",
    "Restaurant ID: Unique identifier of restaurant\n",
    "Consumer ID: Unique identifier of customer\n",
    "Delivery Region: City where restaurant is located\n",
    "Is ASAP: Equals TRUE for on-demand orders; FALSE for scheduled deliveries (e.g., a customer places an order at 10am for 12noon)\n",
    "Order total: Amount customer spent (including delivery fee); units are in dollars\n",
    "Amount discount: Amount of discounts redeemed (e.g., for referrals); units are in dollars\n",
    "Amount of tip: Amount of tip given; units are in dollars\n",
    "Refunded amount: Amount refunded to customer; units are in dollars\n",
    "Times: Time is in UTC and we operate on PT"
   ]
  },
  {
   "cell_type": "code",
   "execution_count": 1,
   "metadata": {},
   "outputs": [],
   "source": [
    "#import the necessary modules\n",
    "import pandas as pd\n",
    "import numpy as np\n",
    "import matplotlib.pyplot as plt\n",
    "import seaborn as sns\n",
    "import os\n",
    "import warnings\n",
    "warnings.filterwarnings('ignore')\n",
    "#the dts list denotes the columns that represent datetimes. Because the datetime format provided is not standard, \n",
    "#we will not adjust them when we instatiate the dataframe; we will adjust each column with pd.to_datetime. \n",
    "dts = [\"Customer placed order datetime\", \n",
    "       \"Placed order with restaurant datetime\", \n",
    "       \"Driver at restaurant datetime\", \n",
    "       \"Delivered to consumer datetime\"]\n",
    "#instatiate the dataframe from the provided excel\n",
    "df = pd.read_excel(\"Sample deliveries data - 1 month (1) (2).xlsx\")\n",
    "#Convert datetime columns to appropriate data types, and convert from base UTC to the Client's operational time zone (PT)  \n",
    "for col in dts:\n",
    "    df[col] = pd.to_datetime(df[col], format = \"%d %H:%M:%S\", utc=True).dt.tz_convert('US/Pacific')"
   ]
  },
  {
   "cell_type": "markdown",
   "metadata": {},
   "source": [
    "## 1b) check for missing values in dataframe "
   ]
  },
  {
   "cell_type": "code",
   "execution_count": 2,
   "metadata": {
    "scrolled": true
   },
   "outputs": [
    {
     "name": "stdout",
     "output_type": "stream",
     "text": [
      "Unique delivery regions: ['Mountain View' 'Palo Alto' 'San Jose' 'None']\n",
      "26 entries do not have region data\n",
      "\n",
      "# Missing values for each column:\n"
     ]
    },
    {
     "data": {
      "text/plain": [
       "Customer placed order datetime              0\n",
       "Placed order with restaurant datetime      40\n",
       "Driver at restaurant datetime            4531\n",
       "Delivered to consumer datetime              0\n",
       "Driver ID                                   0\n",
       "Restaurant ID                               0\n",
       "Consumer ID                                 0\n",
       "Delivery Region                            26\n",
       "Is ASAP                                     0\n",
       "Order total                                 0\n",
       "Amount of discount                          0\n",
       "Amount of tip                               0\n",
       "Refunded amount                             0\n",
       "dtype: int64"
      ]
     },
     "execution_count": 2,
     "metadata": {},
     "output_type": "execute_result"
    }
   ],
   "source": [
    "print(f'Unique delivery regions: {df[\"Delivery Region\"].unique()}')\n",
    "print(f'{len(df[df[\"Delivery Region\"]==\"None\"])} entries do not have region data')\n",
    "df[\"Delivery Region\"].replace({\"None\": np.nan}, inplace=True)\n",
    "print(\"\\n# Missing values for each column:\")\n",
    "df.isna().sum()"
   ]
  },
  {
   "cell_type": "markdown",
   "metadata": {},
   "source": [
    "#### Problems: \n",
    "- 3 columns (\"Placed order with restaurant datetime,\" \"Delivery Region,\" and \"Driver at restaurant datetime\") are missing some data. This may impact analysis.\n",
    "\n",
    "#### Mitigation Options: Two solutions present themselves for the datetime data: \n",
    "1. Impute the data where appropriate using the average delivery time.\n",
    "    Deliver time can be inferred by comparing existing \"driver at restaurant\" and \"delivered to consumer\" times. This solution raises the below concerns.\n",
    "        a) We do not have geolocation data; some customers may be placing orders at restaurants far away. \n",
    "        b) We do not know what method the driver is using the deliver the food (e.g. bike, motorcycle, car)\n",
    "        c) We do not know the whether conditions on the given day, or other one-off events that cause atypical fluctuations in delivery times. \n",
    "2. Remove the columns. \n",
    "    When data quality is in question, it is oftentimes advisable to remove the questionable entries when it will not cause a material change to the dataset. In this case, 4500 rows represents almost 25% of all rows - removing this much data would cause a material change to data interpretation. \n",
    "        \n",
    "\n",
    "#### Solutions\n",
    "Per the above, I consider the uncertainty inherent in imputing values less of a concern than removing up 25% of data. \n",
    "1. For missing delivery region, I will impute using the most common delivery region (mode)\n",
    "2. For missing driver at restaurant values, I will infer the missing data using the average (median) delivery time. The median is resistent to outliers. As we are missing significant context when it comes to deliveries (restaurant delays, distance, etc), the mode is a safer reflection of the average delivery time than the mean.\n",
    "3. For order placed w/restaurant values, I will use a two pronged approach based on ASAP status:\n",
    "    1. If the \"IS ASAP\" flag is True: \n",
    "        a) If the number missing data is material: I will impute order using the \"order placed w/customer\" value\n",
    "        b) If the number missing data is not material: I will drop the rows from the relevant analysis\n",
    "    2. If the order is not ASAP: order-time would be delayed from order placed. As we do not know the time the customer has specified for delivery given current data, we will leave these blank and not analyze non-asap orders\n",
    "\n",
    "\n",
    "#### Assumptions\n",
    "##### 1. Customers' distance from restaurants are all similar\n",
    "##### 2. All drivers are using the same method of transportation (given the \"Driver\" denotation, likely a car)\n",
    "##### 3. Weather conditions are immaterial to delivery time. As the delivery regions specified typically have driving-favorable weather, this is a very reasonable assumption\n",
    "##### 4. We will not analyze non-asap orders per Solution 3.2 above\n",
    "\n",
    "Note: For a more detailed analysis, we could additionally factor in delivery region and time-of-day to impute average delivery time. As I am limited on time, I will go with the simple region approach denoted in "
   ]
  },
  {
   "cell_type": "code",
   "execution_count": 3,
   "metadata": {
    "scrolled": true
   },
   "outputs": [
    {
     "name": "stdout",
     "output_type": "stream",
     "text": [
      "ASAP status of orders missing order placement data: \n",
      "False    38\n",
      "True      2\n",
      "Name: Is ASAP, dtype: int64\n"
     ]
    }
   ],
   "source": [
    "# Impute Delivery Region\n",
    "df[\"Delivery Region\"].fillna(df[\"Delivery Region\"].mode()[0], inplace=True)\n",
    "# Impute Driver at Restaurant\n",
    "#      Step 1: Create delivery Driver_time_elapsed column\n",
    "df[\"Driver_time_elapsed\"] = df[\"Delivered to consumer datetime\"] - df[\"Driver at restaurant datetime\"]\n",
    "#      Step 2: Create an integer column for feature engineering\n",
    "df[\"Driver at restaurant datetime\"] = df[\"Delivered to consumer datetime\"] - df[\"Driver_time_elapsed\"].median()\n",
    "# Impute order placed w/restaurants for ASAP deliveries\n",
    "print(f'ASAP status of orders missing order placement data: \\n{df[df[\"Placed order with restaurant datetime\"].isnull()][\"Is ASAP\"].value_counts()}')"
   ]
  },
  {
   "cell_type": "markdown",
   "metadata": {},
   "source": [
    "Only two values missing order placement time are ASAP orders; this number is immaterial to any analysis. I will drop them. Let's confirm all the null values are gone now. "
   ]
  },
  {
   "cell_type": "code",
   "execution_count": 4,
   "metadata": {},
   "outputs": [
    {
     "data": {
      "text/plain": [
       "Customer placed order datetime              0\n",
       "Placed order with restaurant datetime      40\n",
       "Driver at restaurant datetime               0\n",
       "Delivered to consumer datetime              0\n",
       "Driver ID                                   0\n",
       "Restaurant ID                               0\n",
       "Consumer ID                                 0\n",
       "Delivery Region                             0\n",
       "Is ASAP                                     0\n",
       "Order total                                 0\n",
       "Amount of discount                          0\n",
       "Amount of tip                               0\n",
       "Refunded amount                             0\n",
       "Driver_time_elapsed                      4531\n",
       "dtype: int64"
      ]
     },
     "execution_count": 4,
     "metadata": {},
     "output_type": "execute_result"
    }
   ],
   "source": [
    "df.isna().sum()"
   ]
  },
  {
   "cell_type": "markdown",
   "metadata": {},
   "source": [
    "Great! All the null values are gone. I'll do a quick sanity check on the dataframe and make sure all the info still looks right after our transformations"
   ]
  },
  {
   "cell_type": "code",
   "execution_count": 5,
   "metadata": {},
   "outputs": [
    {
     "data": {
      "text/html": [
       "<div>\n",
       "<style scoped>\n",
       "    .dataframe tbody tr th:only-of-type {\n",
       "        vertical-align: middle;\n",
       "    }\n",
       "\n",
       "    .dataframe tbody tr th {\n",
       "        vertical-align: top;\n",
       "    }\n",
       "\n",
       "    .dataframe thead th {\n",
       "        text-align: right;\n",
       "    }\n",
       "</style>\n",
       "<table border=\"1\" class=\"dataframe\">\n",
       "  <thead>\n",
       "    <tr style=\"text-align: right;\">\n",
       "      <th></th>\n",
       "      <th>Customer placed order datetime</th>\n",
       "      <th>Placed order with restaurant datetime</th>\n",
       "      <th>Driver at restaurant datetime</th>\n",
       "      <th>Delivered to consumer datetime</th>\n",
       "      <th>Driver ID</th>\n",
       "      <th>Restaurant ID</th>\n",
       "      <th>Consumer ID</th>\n",
       "      <th>Delivery Region</th>\n",
       "      <th>Is ASAP</th>\n",
       "      <th>Order total</th>\n",
       "      <th>Amount of discount</th>\n",
       "      <th>Amount of tip</th>\n",
       "      <th>Refunded amount</th>\n",
       "      <th>Driver_time_elapsed</th>\n",
       "    </tr>\n",
       "  </thead>\n",
       "  <tbody>\n",
       "    <tr>\n",
       "      <td>0</td>\n",
       "      <td>1899-12-31 18:59:12-07:53</td>\n",
       "      <td>1899-12-31 19:07:25-07:53</td>\n",
       "      <td>1899-12-31 19:19:58-07:53</td>\n",
       "      <td>1899-12-31 19:42:20-07:53</td>\n",
       "      <td>279</td>\n",
       "      <td>50</td>\n",
       "      <td>6738</td>\n",
       "      <td>Mountain View</td>\n",
       "      <td>True</td>\n",
       "      <td>16.33</td>\n",
       "      <td>0.0</td>\n",
       "      <td>0.82</td>\n",
       "      <td>0.0</td>\n",
       "      <td>00:27:11</td>\n",
       "    </tr>\n",
       "    <tr>\n",
       "      <td>1</td>\n",
       "      <td>1900-01-13 08:05:57-07:53</td>\n",
       "      <td>1900-01-13 10:03:45-07:53</td>\n",
       "      <td>1900-01-13 10:41:39-07:53</td>\n",
       "      <td>1900-01-13 11:04:01-07:53</td>\n",
       "      <td>303</td>\n",
       "      <td>96</td>\n",
       "      <td>64746</td>\n",
       "      <td>Palo Alto</td>\n",
       "      <td>True</td>\n",
       "      <td>76.14</td>\n",
       "      <td>0.0</td>\n",
       "      <td>6.45</td>\n",
       "      <td>0.0</td>\n",
       "      <td>00:32:22</td>\n",
       "    </tr>\n",
       "  </tbody>\n",
       "</table>\n",
       "</div>"
      ],
      "text/plain": [
       "  Customer placed order datetime Placed order with restaurant datetime  \\\n",
       "0      1899-12-31 18:59:12-07:53             1899-12-31 19:07:25-07:53   \n",
       "1      1900-01-13 08:05:57-07:53             1900-01-13 10:03:45-07:53   \n",
       "\n",
       "  Driver at restaurant datetime Delivered to consumer datetime  Driver ID  \\\n",
       "0     1899-12-31 19:19:58-07:53      1899-12-31 19:42:20-07:53        279   \n",
       "1     1900-01-13 10:41:39-07:53      1900-01-13 11:04:01-07:53        303   \n",
       "\n",
       "   Restaurant ID  Consumer ID Delivery Region  Is ASAP  Order total  \\\n",
       "0             50         6738   Mountain View     True        16.33   \n",
       "1             96        64746       Palo Alto     True        76.14   \n",
       "\n",
       "   Amount of discount  Amount of tip  Refunded amount Driver_time_elapsed  \n",
       "0                 0.0           0.82              0.0            00:27:11  \n",
       "1                 0.0           6.45              0.0            00:32:22  "
      ]
     },
     "execution_count": 5,
     "metadata": {},
     "output_type": "execute_result"
    }
   ],
   "source": [
    "# Make sure all the data looks correct. \n",
    "# QAing with the provided excel shows that the datetime conversion is a difference of 8 hours.\n",
    "# This which is correct if Daylight savings time is not active. \n",
    "df.head(2)"
   ]
  },
  {
   "cell_type": "markdown",
   "metadata": {},
   "source": [
    "Everything's looking good. A quick sanity check on the timezones shows that the UTC to PT conversion clocks in at -8 hours, which fits if daylight savings time is not active (Pacific time is currently PST). \n",
    "\n",
    "#### Assumption: Pacific time is currently on PST (not PDT)"
   ]
  },
  {
   "cell_type": "markdown",
   "metadata": {},
   "source": [
    "# Exploration 1: Demand trends\n",
    "1. Can we get a better idea of what month this data is representing? \n",
    "2. Does food-delivery demand have any common trends?"
   ]
  },
  {
   "cell_type": "markdown",
   "metadata": {},
   "source": [
    "### Step 1: Restrict analysis to operational month (PST, not UTC)"
   ]
  },
  {
   "cell_type": "code",
   "execution_count": 6,
   "metadata": {},
   "outputs": [],
   "source": [
    "def order_check(num, df):\n",
    "    return(f\"Total # of orders check: {num}/{len(df)}\")"
   ]
  },
  {
   "cell_type": "markdown",
   "metadata": {},
   "source": [
    "Since orders can be placed in advance, monthly operational data can be best inferred by the date an order is delivered to a consumer"
   ]
  },
  {
   "cell_type": "code",
   "execution_count": 7,
   "metadata": {},
   "outputs": [
    {
     "name": "stdout",
     "output_type": "stream",
     "text": [
      "The largest day # in the dataset in PT is: 30\n",
      "of the 18078 entries provided, 17698 are in the operational month\n"
     ]
    }
   ],
   "source": [
    "#Dataframe contains month values given in UTC; some values \n",
    "#(e.g. 1st day of the month, 2AM UTC) would actually belong to the previous operational month in Pacific Time \n",
    "pst_df = df[df[\"Delivered to consumer datetime\"].dt.year != 1899]\n",
    "print (f'The largest day # in the dataset in PT is: {pst_df[\"Delivered to consumer datetime\"].dt.day.max()}')\n",
    "print (f\"of the {len(df)} entries provided, {len(pst_df)} are in the operational month\")"
   ]
  },
  {
   "cell_type": "markdown",
   "metadata": {},
   "source": [
    "### Step 2: Visualize data"
   ]
  },
  {
   "cell_type": "code",
   "execution_count": 8,
   "metadata": {
    "scrolled": false
   },
   "outputs": [
    {
     "name": "stdout",
     "output_type": "stream",
     "text": [
      "Total # of orders check: 17698/17698\n"
     ]
    },
    {
     "data": {
      "image/png": "[encoded data removed]",
      "text/plain": [
       "<Figure size 1008x288 with 2 Axes>"
      ]
     },
     "metadata": {
      "needs_background": "light"
     },
     "output_type": "display_data"
    }
   ],
   "source": [
    "#Create pivot table with count of data entries per day ID\n",
    "day_quant_table = pst_df.pivot_table(index = pst_df[\"Delivered to consumer datetime\"].dt.day, aggfunc = \"count\")\n",
    "weekday_quant_table = pst_df.pivot_table(index = pst_df[\"Delivered to consumer datetime\"].dt.weekday, aggfunc = \"count\")\n",
    "\n",
    "#Confirm that sum of orders equals the total number of orders in the dataframe (18078)\n",
    "print(order_check(day_quant_table[\"Restaurant ID\"].sum(), pst_df))\n",
    "#Graph by day\n",
    "fig, axes = plt.subplots(1,2, figsize=(14,4))\n",
    "for table, ax in zip([day_quant_table, weekday_quant_table], axes):\n",
    "    ax.bar(table.index, table[\"Restaurant ID\"])\n",
    "axes[0].set(title=\"Orders by day of month\", xlabel=\"Day of Month\", ylabel=\"# Orders per day\");\n",
    "axes[1].set(title=\"Orders by day of week (relative weekday number)\", xlabel=\"Day of Week\", ylabel=\"Total monthly orders\");"
   ]
  },
  {
   "cell_type": "markdown",
   "metadata": {},
   "source": [
    "Note: Day 30 in this example may be underrepresented by design, as our extract is pulled on UTC data. Thus, in the same way that this month's extract included some of last month's data, at least someof the Day 30 operational data for this month would be included in the next month's data, as UTC is ahead of PST. "
   ]
  },
  {
   "cell_type": "markdown",
   "metadata": {},
   "source": [
    "# Takeaways / Trends\n",
    "Using the knowledge that the largest day contained in the date columns is 30, we know that we are operating in a month with 31 days. Thus, we know this data comes from either September, April, June, and November. \n",
    "\n",
    "The data also seems to follow two patterns a 7-day basis:\n",
    "    1. Starting with Day #4, every 7th day appears to see a relative spike in orders\n",
    "    2. Starting with Day #7, every 7th day represents a relative trough in order demand\n",
    "    \n",
    "\n",
    "# Demand trends require further exploration\n",
    "We have a clear relative trend of order volume by relative weekday, but what month and year is this data exerpt taken from? Knowing the time will provide clarity as to which weekdays are most valuable. \n",
    "- We know that this data comes from either Sept, April, June, or November\n",
    "    \n",
    "- The data is exposing a clear demand trend that seems to hold for almost the entire duration of the data provided. Knowing which month would allow us to determine which weekdays the Client sees peak demand and likewise, which weekdays demand suffers. Knowing what month this data is from would also allow us to cross-reference our demand data with likely confounding variables, such as holidays. For example, the massive decline in demand seen in Days 20 and 30 could be explained by national holidays  "
   ]
  },
  {
   "cell_type": "markdown",
   "metadata": {},
   "source": [
    "# Exploration 2: Delivery Trends\n",
    "1. Are there any significant lead times when communicicating Client orders to partner restaurants?\n",
    "    - Are certain restaurants suffering from disproportionately long lead-times? \n",
    "2. Do monetary KPIs differ by delivery region?\n",
    "    - Create the same time-series as #2, grouped by Delivery Region\n",
    "3. Do certain consumers out-refund others? Why?\n",
    "    - Group monetary kpis by consumer ID and look for outliers \n",
    "4. (Time-permitting) Do certain drivers outperform others?\n",
    "    - Group monetary kpis by driver ID and look for outliers\n",
    "5. (Time-permitting) Do certain restaurants stand out (for better or for worse?)\n",
    "    - Group monetary KPIs by restaurant.\n",
    "        - Do discounts correspond to increased order volume?\n",
    "        - Do some restaurants account for a larger share of order totals?\n",
    "        - Are some restaurants more likely to be associated with refunded orders?\n"
   ]
  },
  {
   "cell_type": "markdown",
   "metadata": {},
   "source": [
    "## 1. Restaurant Order lead-times"
   ]
  },
  {
   "cell_type": "code",
   "execution_count": 9,
   "metadata": {},
   "outputs": [
    {
     "data": {
      "text/plain": [
       "count                     14104\n",
       "mean     0 days 00:04:28.898468\n",
       "std      0 days 06:03:04.639094\n",
       "min          -30 days +04:56:24\n",
       "25%             0 days 00:01:17\n",
       "50%             0 days 00:03:14\n",
       "75%             0 days 00:09:09\n",
       "max             2 days 19:59:58\n",
       "Name: order_lt, dtype: object"
      ]
     },
     "execution_count": 9,
     "metadata": {},
     "output_type": "execute_result"
    }
   ],
   "source": [
    "pst_df[\"order_lt\"] = pst_df[\"Placed order with restaurant datetime\"] - pst_df[\"Customer placed order datetime\"]\n",
    "pst_df[\"order_lt_min\"] = pst_df[\"order_lt\"].dt.seconds/60\n",
    "#order lead times are only relevant for orders placed for immediate delivery; \n",
    "# the current dataset does not have data to analyze orders placed for delayed delivery\n",
    "pst_df[pst_df[\"Is ASAP\"]][\"order_lt\"].describe()"
   ]
  },
  {
   "cell_type": "markdown",
   "metadata": {},
   "source": [
    "Looks like there may be some data integrity issues - some orders seem to have placed an order with the restaurant significantly before the customer even placed the order. I'll drop all the values that have orders placed with restaurants before the customer places their order."
   ]
  },
  {
   "cell_type": "code",
   "execution_count": 10,
   "metadata": {},
   "outputs": [
    {
     "data": {
      "text/plain": [
       "count                     14103\n",
       "mean     0 days 00:07:31.447209\n",
       "std      0 days 00:35:37.410277\n",
       "min             0 days 00:00:06\n",
       "25%             0 days 00:01:17\n",
       "50%             0 days 00:03:14\n",
       "75%             0 days 00:09:09\n",
       "max             2 days 19:59:58\n",
       "Name: order_lt, dtype: object"
      ]
     },
     "execution_count": 10,
     "metadata": {},
     "output_type": "execute_result"
    }
   ],
   "source": [
    "time_df = pst_df.drop(pst_df[pst_df[\"Placed order with restaurant datetime\"] < pst_df[\"Customer placed order datetime\"]].index)\n",
    "time_df[time_df[\"Is ASAP\"]][\"order_lt\"].describe()"
   ]
  },
  {
   "cell_type": "markdown",
   "metadata": {},
   "source": [
    "That looks better! Immediate takeaways are that some orders are placed almost immediately (6 seconds!), though over 75% of all orders take over a minute to place with the restaurant. If we can partner more closely with our partner restaurants and integrate their order queue directly to the Client's App, we can reduce order delays to almost 0! \n",
    "\n",
    "Let's see if there are any other specific insights we can glean"
   ]
  },
  {
   "cell_type": "code",
   "execution_count": 11,
   "metadata": {},
   "outputs": [
    {
     "name": "stdout",
     "output_type": "stream",
     "text": [
      "# orders placed in each region:\n",
      "Palo Alto        11218\n",
      "Mountain View     3668\n",
      "San Jose          2801\n",
      "Name: Delivery Region, dtype: int64\n"
     ]
    },
    {
     "data": {
      "image/png": "[encoded data removed]",
      "text/plain": [
       "<Figure size 1008x288 with 2 Axes>"
      ]
     },
     "metadata": {
      "needs_background": "light"
     },
     "output_type": "display_data"
    }
   ],
   "source": [
    "fig, axes = plt.subplots(1,2, figsize = (14,4))\n",
    "\n",
    "chart_regions = time_df[time_df[\"Is ASAP\"]].groupby(\"Delivery Region\").mean()[\"order_lt_min\"]\n",
    "chart_restaurants = time_df[time_df[\"Is ASAP\"]].groupby(\"Restaurant ID\").mean()[\"order_lt_min\"]\n",
    "titles = [\"Average delay placing order at restaurant, by region\", \"Average delay receiving Client order, by partner restaurant\"]\n",
    "print(f\"# orders placed in each region:\\n{time_df['Delivery Region'].value_counts()}\")\n",
    "\n",
    "for chart, ax, title in zip([chart_regions, chart_restaurants], axes, titles):\n",
    "    ax.bar(chart.index, chart)\n",
    "    ax.set_title(title)"
   ]
  },
  {
   "cell_type": "markdown",
   "metadata": {},
   "source": [
    "Regions: Palo Alto seem to have the lowest average delivery time, but it's still over 6 minutes. As the Client already has significant market penetration in Palo Alto, it should prioritize developing relationships in Mountain View and San Jose to continue to improve customer and partner experience and further penetrate these markets\n",
    "\n",
    "Restaurants: Most restaurants have around a 10 minute delay, but a handful have scary high delays in receiving Client orders. Let's identify what restaurants those are, and work with them to fix whatever issue is causing these massive delays"
   ]
  },
  {
   "cell_type": "code",
   "execution_count": 12,
   "metadata": {},
   "outputs": [
    {
     "name": "stdout",
     "output_type": "stream",
     "text": [
      "There are 78 restaurants with average order lead times > 10 min.\n",
      "They received a total of 2866 orders\n",
      "\n",
      "These 10 retaurants account for 1701 of the 2866 orders above:\n"
     ]
    },
    {
     "data": {
      "text/html": [
       "<div>\n",
       "<style scoped>\n",
       "    .dataframe tbody tr th:only-of-type {\n",
       "        vertical-align: middle;\n",
       "    }\n",
       "\n",
       "    .dataframe tbody tr th {\n",
       "        vertical-align: top;\n",
       "    }\n",
       "\n",
       "    .dataframe thead th {\n",
       "        text-align: right;\n",
       "    }\n",
       "</style>\n",
       "<table border=\"1\" class=\"dataframe\">\n",
       "  <thead>\n",
       "    <tr style=\"text-align: right;\">\n",
       "      <th></th>\n",
       "      <th># orders received</th>\n",
       "    </tr>\n",
       "    <tr>\n",
       "      <th>Restaurant ID</th>\n",
       "      <th></th>\n",
       "    </tr>\n",
       "  </thead>\n",
       "  <tbody>\n",
       "    <tr>\n",
       "      <td>9</td>\n",
       "      <td>710</td>\n",
       "    </tr>\n",
       "    <tr>\n",
       "      <td>5</td>\n",
       "      <td>187</td>\n",
       "    </tr>\n",
       "    <tr>\n",
       "      <td>194</td>\n",
       "      <td>184</td>\n",
       "    </tr>\n",
       "    <tr>\n",
       "      <td>30</td>\n",
       "      <td>156</td>\n",
       "    </tr>\n",
       "    <tr>\n",
       "      <td>221</td>\n",
       "      <td>96</td>\n",
       "    </tr>\n",
       "    <tr>\n",
       "      <td>90</td>\n",
       "      <td>89</td>\n",
       "    </tr>\n",
       "    <tr>\n",
       "      <td>224</td>\n",
       "      <td>75</td>\n",
       "    </tr>\n",
       "    <tr>\n",
       "      <td>264</td>\n",
       "      <td>71</td>\n",
       "    </tr>\n",
       "    <tr>\n",
       "      <td>239</td>\n",
       "      <td>68</td>\n",
       "    </tr>\n",
       "    <tr>\n",
       "      <td>109</td>\n",
       "      <td>65</td>\n",
       "    </tr>\n",
       "  </tbody>\n",
       "</table>\n",
       "</div>"
      ],
      "text/plain": [
       "               # orders received\n",
       "Restaurant ID                   \n",
       "9                            710\n",
       "5                            187\n",
       "194                          184\n",
       "30                           156\n",
       "221                           96\n",
       "90                            89\n",
       "224                           75\n",
       "264                           71\n",
       "239                           68\n",
       "109                           65"
      ]
     },
     "metadata": {},
     "output_type": "display_data"
    }
   ],
   "source": [
    "print (f\"There are {len(chart_restaurants[chart_restaurants > 10])} restaurants with average order lead times > 10 min.\")\n",
    "print(f\"They received a total of {pst_df['Restaurant ID'].isin(chart_restaurants[chart_restaurants > 10].index).sum()} orders\")\n",
    "\n",
    "#Identify high-lead time restaurants with the highest volume of orders       \n",
    "big_delays = pst_df[pst_df[\"Restaurant ID\"].isin(chart_restaurants[chart_restaurants > 10].index)].\\\n",
    "pivot_table(index=\"Restaurant ID\", values = \"Consumer ID\", aggfunc=\"count\").\\\n",
    "sort_values(\"Consumer ID\", ascending=False).rename({\"Consumer ID\": \"# orders received\"},axis=1).head(10)\n",
    "      \n",
    "print(f\"\\nThese 10 retaurants account for {big_delays['# orders received'].sum()} of the 2866 orders above:\")\n",
    "display(big_delays)"
   ]
  },
  {
   "cell_type": "markdown",
   "metadata": {},
   "source": [
    "## Action Item: \n",
    "Work with the above 10 restaurants and determine ways to best reduce delays from the time a customer places an order with  the Client to the time the partner restaurant receives it. I hypothesize the best way to do this is to integrate the partner restaurant's order queue with the Client's order API, as this would cause orders to be placed with the partner restaurant instantaneously. However, more research is required. "
   ]
  },
  {
   "cell_type": "markdown",
   "metadata": {},
   "source": [
    "## 2. Monetary KPIs - by Delivery Region"
   ]
  },
  {
   "cell_type": "code",
   "execution_count": 13,
   "metadata": {},
   "outputs": [
    {
     "data": {
      "text/plain": [
       "Palo Alto        11226\n",
       "Mountain View     3670\n",
       "San Jose          2802\n",
       "Name: Delivery Region, dtype: int64"
      ]
     },
     "execution_count": 13,
     "metadata": {},
     "output_type": "execute_result"
    }
   ],
   "source": [
    "# Review how many orders were placed in each region\n",
    "pst_df[\"Delivery Region\"].value_counts()"
   ]
  },
  {
   "cell_type": "code",
   "execution_count": 14,
   "metadata": {},
   "outputs": [],
   "source": [
    "pst_df[\"tip % of order\"] = pst_df[\"Amount of tip\"] / pst_df[\"Order total\"] * 100\n",
    "money_kpis = [\"Order total\", \"tip % of order\", \"Refunded amount\", \"Amount of discount\"]"
   ]
  },
  {
   "cell_type": "code",
   "execution_count": 15,
   "metadata": {},
   "outputs": [
    {
     "data": {
      "image/png": "[encoded data removed]",
      "text/plain": [
       "<Figure size 1008x288 with 4 Axes>"
      ]
     },
     "metadata": {
      "needs_background": "light"
     },
     "output_type": "display_data"
    },
    {
     "data": {
      "image/png": "[encoded data removed]",
      "text/plain": [
       "<Figure size 1008x288 with 4 Axes>"
      ]
     },
     "metadata": {
      "needs_background": "light"
     },
     "output_type": "display_data"
    }
   ],
   "source": [
    "fig, axes = plt.subplots(1,4, figsize=(14,4))\n",
    "legend_order = []\n",
    "for region in pst_df[\"Delivery Region\"].unique():\n",
    "    for kpi, ax in zip(money_kpis, axes):\n",
    "        temp = pst_df[pst_df[\"Delivery Region\"]==region]\n",
    "        ax.plot(temp.pivot_table(index=temp[\"Delivered to consumer datetime\"].dt.day, values=kpi, aggfunc=\"mean\"), alpha=.5)\n",
    "        ax.set(ylabel=\"Average $USD (mean)\")\n",
    "        ax.set(xlabel=\"Day of Month\")\n",
    "        ax.set(title=f\"Month - {kpi}\")\n",
    "        plt.tight_layout()\n",
    "    legend_order.append(region)\n",
    "ax.legend(legend_order, loc=\"upper right\");\n",
    "\n",
    "fig, axes = plt.subplots(1,4, figsize=(14,4))\n",
    "legend_order = []\n",
    "for region in pst_df[\"Delivery Region\"].unique():\n",
    "    for kpi, ax in zip(money_kpis, axes):\n",
    "        temp = pst_df[pst_df[\"Delivery Region\"]==region]\n",
    "        ax.plot(temp.pivot_table(index=temp[\"Delivered to consumer datetime\"].dt.weekday, values=kpi, aggfunc=\"mean\"), alpha=.5)\n",
    "        ax.set(ylabel=\"Average $USD (mean)\")\n",
    "        ax.set(xlabel=\"Weekday (relative number)\")\n",
    "        ax.set(title=f\"Weekday - {kpi}\")\n",
    "        plt.tight_layout()"
   ]
  },
  {
   "cell_type": "markdown",
   "metadata": {},
   "source": [
    "## Action Items\n",
    "- Focus growth into San Jose - the community seems to tip drivers with a a much higher % of the order total than consumers in other communities\n",
    "\n",
    "- Reevaluate discount frequency in Palo Alto and Mountain View areas. Palo Alto has almost 300% of Mountain View's order volume, but has higher average discounts almost every day. Either increase discount frequency in Mountain View to increase product update, or decrease discount frequency in Palo Alto if it is determined that market has reached maturity\n",
    "\n",
    "- Explore alternative delivery fee structures for different areas based on average order size. Assuming current delivery fees are a constant factor of order price and delivery time, the Client may want to consider region-specific policy to normalize income across different cost-of-living zones. Orders placed in San Jose are $10+ cheaper than those placed in Mountain View and Palo Alto. \n",
    "\n",
    "Note: Tips in San Jose may be a higher % of cost due to having extra money due to the cheaper meals. Before changing delivery fee structures, an elasticity exercise should be conducted. "
   ]
  },
  {
   "cell_type": "markdown",
   "metadata": {},
   "source": [
    "## 3. Refunds"
   ]
  },
  {
   "cell_type": "code",
   "execution_count": 16,
   "metadata": {},
   "outputs": [],
   "source": [
    "#find all entries where customers asked for a refund\n",
    "refund_df = pst_df[pst_df[\"Refunded amount\"] > 0]"
   ]
  },
  {
   "cell_type": "code",
   "execution_count": 17,
   "metadata": {},
   "outputs": [
    {
     "name": "stdout",
     "output_type": "stream",
     "text": [
      "486 refunds were issued to 436 unique customers\n",
      "The customers who refunded more than two orders this month are as follows: \n"
     ]
    },
    {
     "data": {
      "text/html": [
       "<div>\n",
       "<style scoped>\n",
       "    .dataframe tbody tr th:only-of-type {\n",
       "        vertical-align: middle;\n",
       "    }\n",
       "\n",
       "    .dataframe tbody tr th {\n",
       "        vertical-align: top;\n",
       "    }\n",
       "\n",
       "    .dataframe thead th {\n",
       "        text-align: right;\n",
       "    }\n",
       "</style>\n",
       "<table border=\"1\" class=\"dataframe\">\n",
       "  <thead>\n",
       "    <tr style=\"text-align: right;\">\n",
       "      <th></th>\n",
       "      <th>Total Orders</th>\n",
       "      <th>Refunded Orders</th>\n",
       "      <th>Refund %</th>\n",
       "    </tr>\n",
       "    <tr>\n",
       "      <th>Consumer ID</th>\n",
       "      <th></th>\n",
       "      <th></th>\n",
       "      <th></th>\n",
       "    </tr>\n",
       "  </thead>\n",
       "  <tbody>\n",
       "    <tr>\n",
       "      <td>91848</td>\n",
       "      <td>9</td>\n",
       "      <td>3</td>\n",
       "      <td>33.333333</td>\n",
       "    </tr>\n",
       "    <tr>\n",
       "      <td>12420</td>\n",
       "      <td>10</td>\n",
       "      <td>3</td>\n",
       "      <td>30.000000</td>\n",
       "    </tr>\n",
       "    <tr>\n",
       "      <td>959</td>\n",
       "      <td>11</td>\n",
       "      <td>3</td>\n",
       "      <td>27.272727</td>\n",
       "    </tr>\n",
       "    <tr>\n",
       "      <td>2999</td>\n",
       "      <td>14</td>\n",
       "      <td>3</td>\n",
       "      <td>21.428571</td>\n",
       "    </tr>\n",
       "    <tr>\n",
       "      <td>96518</td>\n",
       "      <td>14</td>\n",
       "      <td>3</td>\n",
       "      <td>21.428571</td>\n",
       "    </tr>\n",
       "    <tr>\n",
       "      <td>5673</td>\n",
       "      <td>21</td>\n",
       "      <td>4</td>\n",
       "      <td>19.047619</td>\n",
       "    </tr>\n",
       "    <tr>\n",
       "      <td>14296</td>\n",
       "      <td>20</td>\n",
       "      <td>3</td>\n",
       "      <td>15.000000</td>\n",
       "    </tr>\n",
       "    <tr>\n",
       "      <td>10294</td>\n",
       "      <td>21</td>\n",
       "      <td>3</td>\n",
       "      <td>14.285714</td>\n",
       "    </tr>\n",
       "    <tr>\n",
       "      <td>929</td>\n",
       "      <td>50</td>\n",
       "      <td>5</td>\n",
       "      <td>10.000000</td>\n",
       "    </tr>\n",
       "  </tbody>\n",
       "</table>\n",
       "</div>"
      ],
      "text/plain": [
       "             Total Orders  Refunded Orders   Refund %\n",
       "Consumer ID                                          \n",
       "91848                   9                3  33.333333\n",
       "12420                  10                3  30.000000\n",
       "959                    11                3  27.272727\n",
       "2999                   14                3  21.428571\n",
       "96518                  14                3  21.428571\n",
       "5673                   21                4  19.047619\n",
       "14296                  20                3  15.000000\n",
       "10294                  21                3  14.285714\n",
       "929                    50                5  10.000000"
      ]
     },
     "execution_count": 17,
     "metadata": {},
     "output_type": "execute_result"
    }
   ],
   "source": [
    "print(f\"{len(refund_df)} refunds were issued to {refund_df['Consumer ID'].nunique()} unique customers\")\n",
    "print(\"The customers who refunded more than two orders this month are as follows: \")\n",
    "all_refunds = refund_df[\"Consumer ID\"].value_counts()\n",
    "#identify people who may be abusing the system by logging more than 2 refunds in a month\n",
    "potential_abusers = all_refunds[all_refunds > 2]\n",
    "#cross reference potential abusers with the total number of orders placed\n",
    "abuse_check = pst_df[pst_df[\"Consumer ID\"].isin(potential_abusers.index)].pivot_table(index=\"Consumer ID\", \n",
    "                                                                                      values=\"Refunded amount\", \n",
    "                                                                                      aggfunc=\"count\")\n",
    "abuse_check = abuse_check.join(potential_abusers)\n",
    "abuse_check.rename({\"Refunded amount\": \"Total Orders\", \"Consumer ID\": \"Refunded Orders\"}, axis=1, inplace=True)\n",
    "abuse_check[\"Refund %\"] = abuse_check[\"Refunded Orders\"] / abuse_check[\"Total Orders\"] * 100\n",
    "abuse_check.sort_values(by=\"Refund %\", ascending=False)"
   ]
  },
  {
   "cell_type": "markdown",
   "metadata": {},
   "source": [
    "Of those who made more than 2 refunds in the month, the numbers are within the realm of reason - although the Client may to investigate whether customers with high refund %s are legitimate. Speaking of, let's take a quick gander at all refunds and see what the deal is with those who placed 2 or less. "
   ]
  },
  {
   "cell_type": "code",
   "execution_count": 18,
   "metadata": {
    "scrolled": true
   },
   "outputs": [
    {
     "name": "stdout",
     "output_type": "stream",
     "text": [
      "Refunders with highest average delivery time (of refunded items)\n"
     ]
    },
    {
     "data": {
      "text/html": [
       "<div>\n",
       "<style scoped>\n",
       "    .dataframe tbody tr th:only-of-type {\n",
       "        vertical-align: middle;\n",
       "    }\n",
       "\n",
       "    .dataframe tbody tr th {\n",
       "        vertical-align: top;\n",
       "    }\n",
       "\n",
       "    .dataframe thead th {\n",
       "        text-align: right;\n",
       "    }\n",
       "</style>\n",
       "<table border=\"1\" class=\"dataframe\">\n",
       "  <thead>\n",
       "    <tr style=\"text-align: right;\">\n",
       "      <th></th>\n",
       "      <th>Total Orders</th>\n",
       "      <th>Refunded Orders</th>\n",
       "      <th>Avg Delivery time of refunds (min)</th>\n",
       "      <th>Refund frequency</th>\n",
       "      <th>Refund % of cost</th>\n",
       "    </tr>\n",
       "    <tr>\n",
       "      <th>Consumer ID</th>\n",
       "      <th></th>\n",
       "      <th></th>\n",
       "      <th></th>\n",
       "      <th></th>\n",
       "      <th></th>\n",
       "    </tr>\n",
       "  </thead>\n",
       "  <tbody>\n",
       "    <tr>\n",
       "      <td>11055</td>\n",
       "      <td>19</td>\n",
       "      <td>1</td>\n",
       "      <td>91.416667</td>\n",
       "      <td>5.263158</td>\n",
       "      <td>1.241308</td>\n",
       "    </tr>\n",
       "    <tr>\n",
       "      <td>27808</td>\n",
       "      <td>1</td>\n",
       "      <td>1</td>\n",
       "      <td>70.966667</td>\n",
       "      <td>100.000000</td>\n",
       "      <td>17.917936</td>\n",
       "    </tr>\n",
       "    <tr>\n",
       "      <td>80030</td>\n",
       "      <td>12</td>\n",
       "      <td>1</td>\n",
       "      <td>69.050000</td>\n",
       "      <td>8.333333</td>\n",
       "      <td>10.479329</td>\n",
       "    </tr>\n",
       "    <tr>\n",
       "      <td>63544</td>\n",
       "      <td>2</td>\n",
       "      <td>1</td>\n",
       "      <td>68.783333</td>\n",
       "      <td>50.000000</td>\n",
       "      <td>82.104679</td>\n",
       "    </tr>\n",
       "    <tr>\n",
       "      <td>3293</td>\n",
       "      <td>4</td>\n",
       "      <td>1</td>\n",
       "      <td>67.483333</td>\n",
       "      <td>25.000000</td>\n",
       "      <td>38.199823</td>\n",
       "    </tr>\n",
       "    <tr>\n",
       "      <td>83931</td>\n",
       "      <td>1</td>\n",
       "      <td>1</td>\n",
       "      <td>65.983333</td>\n",
       "      <td>100.000000</td>\n",
       "      <td>93.872191</td>\n",
       "    </tr>\n",
       "    <tr>\n",
       "      <td>27329</td>\n",
       "      <td>3</td>\n",
       "      <td>1</td>\n",
       "      <td>62.916667</td>\n",
       "      <td>33.333333</td>\n",
       "      <td>33.677616</td>\n",
       "    </tr>\n",
       "    <tr>\n",
       "      <td>12891</td>\n",
       "      <td>8</td>\n",
       "      <td>1</td>\n",
       "      <td>62.533333</td>\n",
       "      <td>12.500000</td>\n",
       "      <td>13.962405</td>\n",
       "    </tr>\n",
       "    <tr>\n",
       "      <td>1103</td>\n",
       "      <td>22</td>\n",
       "      <td>1</td>\n",
       "      <td>60.950000</td>\n",
       "      <td>4.545455</td>\n",
       "      <td>5.995870</td>\n",
       "    </tr>\n",
       "    <tr>\n",
       "      <td>10990</td>\n",
       "      <td>8</td>\n",
       "      <td>2</td>\n",
       "      <td>59.950000</td>\n",
       "      <td>25.000000</td>\n",
       "      <td>7.116392</td>\n",
       "    </tr>\n",
       "  </tbody>\n",
       "</table>\n",
       "</div>"
      ],
      "text/plain": [
       "             Total Orders  Refunded Orders  \\\n",
       "Consumer ID                                  \n",
       "11055                  19                1   \n",
       "27808                   1                1   \n",
       "80030                  12                1   \n",
       "63544                   2                1   \n",
       "3293                    4                1   \n",
       "83931                   1                1   \n",
       "27329                   3                1   \n",
       "12891                   8                1   \n",
       "1103                   22                1   \n",
       "10990                   8                2   \n",
       "\n",
       "             Avg Delivery time of refunds (min)  Refund frequency  \\\n",
       "Consumer ID                                                         \n",
       "11055                                 91.416667          5.263158   \n",
       "27808                                 70.966667        100.000000   \n",
       "80030                                 69.050000          8.333333   \n",
       "63544                                 68.783333         50.000000   \n",
       "3293                                  67.483333         25.000000   \n",
       "83931                                 65.983333        100.000000   \n",
       "27329                                 62.916667         33.333333   \n",
       "12891                                 62.533333         12.500000   \n",
       "1103                                  60.950000          4.545455   \n",
       "10990                                 59.950000         25.000000   \n",
       "\n",
       "             Refund % of cost  \n",
       "Consumer ID                    \n",
       "11055                1.241308  \n",
       "27808               17.917936  \n",
       "80030               10.479329  \n",
       "63544               82.104679  \n",
       "3293                38.199823  \n",
       "83931               93.872191  \n",
       "27329               33.677616  \n",
       "12891               13.962405  \n",
       "1103                 5.995870  \n",
       "10990                7.116392  "
      ]
     },
     "metadata": {},
     "output_type": "display_data"
    },
    {
     "name": "stdout",
     "output_type": "stream",
     "text": [
      "Refunders with lowest average delivery time (of refunded items)\n"
     ]
    },
    {
     "data": {
      "text/html": [
       "<div>\n",
       "<style scoped>\n",
       "    .dataframe tbody tr th:only-of-type {\n",
       "        vertical-align: middle;\n",
       "    }\n",
       "\n",
       "    .dataframe tbody tr th {\n",
       "        vertical-align: top;\n",
       "    }\n",
       "\n",
       "    .dataframe thead th {\n",
       "        text-align: right;\n",
       "    }\n",
       "</style>\n",
       "<table border=\"1\" class=\"dataframe\">\n",
       "  <thead>\n",
       "    <tr style=\"text-align: right;\">\n",
       "      <th></th>\n",
       "      <th>Total Orders</th>\n",
       "      <th>Refunded Orders</th>\n",
       "      <th>Avg Delivery time of refunds (min)</th>\n",
       "      <th>Refund frequency</th>\n",
       "      <th>Refund % of cost</th>\n",
       "    </tr>\n",
       "    <tr>\n",
       "      <th>Consumer ID</th>\n",
       "      <th></th>\n",
       "      <th></th>\n",
       "      <th></th>\n",
       "      <th></th>\n",
       "      <th></th>\n",
       "    </tr>\n",
       "  </thead>\n",
       "  <tbody>\n",
       "    <tr>\n",
       "      <td>14241</td>\n",
       "      <td>3</td>\n",
       "      <td>1</td>\n",
       "      <td>5.533333</td>\n",
       "      <td>33.333333</td>\n",
       "      <td>6.253155</td>\n",
       "    </tr>\n",
       "    <tr>\n",
       "      <td>111695</td>\n",
       "      <td>1</td>\n",
       "      <td>1</td>\n",
       "      <td>6.833333</td>\n",
       "      <td>100.000000</td>\n",
       "      <td>88.310929</td>\n",
       "    </tr>\n",
       "    <tr>\n",
       "      <td>13592</td>\n",
       "      <td>1</td>\n",
       "      <td>1</td>\n",
       "      <td>7.216667</td>\n",
       "      <td>100.000000</td>\n",
       "      <td>17.637828</td>\n",
       "    </tr>\n",
       "    <tr>\n",
       "      <td>459</td>\n",
       "      <td>17</td>\n",
       "      <td>2</td>\n",
       "      <td>7.666667</td>\n",
       "      <td>11.764706</td>\n",
       "      <td>2.586442</td>\n",
       "    </tr>\n",
       "    <tr>\n",
       "      <td>2186</td>\n",
       "      <td>6</td>\n",
       "      <td>1</td>\n",
       "      <td>8.800000</td>\n",
       "      <td>16.666667</td>\n",
       "      <td>4.124251</td>\n",
       "    </tr>\n",
       "    <tr>\n",
       "      <td>111584</td>\n",
       "      <td>2</td>\n",
       "      <td>1</td>\n",
       "      <td>8.866667</td>\n",
       "      <td>50.000000</td>\n",
       "      <td>11.977292</td>\n",
       "    </tr>\n",
       "    <tr>\n",
       "      <td>14188</td>\n",
       "      <td>3</td>\n",
       "      <td>1</td>\n",
       "      <td>9.500000</td>\n",
       "      <td>33.333333</td>\n",
       "      <td>12.055160</td>\n",
       "    </tr>\n",
       "    <tr>\n",
       "      <td>9938</td>\n",
       "      <td>3</td>\n",
       "      <td>1</td>\n",
       "      <td>9.666667</td>\n",
       "      <td>33.333333</td>\n",
       "      <td>5.880594</td>\n",
       "    </tr>\n",
       "    <tr>\n",
       "      <td>9267</td>\n",
       "      <td>2</td>\n",
       "      <td>1</td>\n",
       "      <td>9.950000</td>\n",
       "      <td>50.000000</td>\n",
       "      <td>12.549571</td>\n",
       "    </tr>\n",
       "    <tr>\n",
       "      <td>4087</td>\n",
       "      <td>38</td>\n",
       "      <td>2</td>\n",
       "      <td>10.116667</td>\n",
       "      <td>5.263158</td>\n",
       "      <td>4.060977</td>\n",
       "    </tr>\n",
       "  </tbody>\n",
       "</table>\n",
       "</div>"
      ],
      "text/plain": [
       "             Total Orders  Refunded Orders  \\\n",
       "Consumer ID                                  \n",
       "14241                   3                1   \n",
       "111695                  1                1   \n",
       "13592                   1                1   \n",
       "459                    17                2   \n",
       "2186                    6                1   \n",
       "111584                  2                1   \n",
       "14188                   3                1   \n",
       "9938                    3                1   \n",
       "9267                    2                1   \n",
       "4087                   38                2   \n",
       "\n",
       "             Avg Delivery time of refunds (min)  Refund frequency  \\\n",
       "Consumer ID                                                         \n",
       "14241                                  5.533333         33.333333   \n",
       "111695                                 6.833333        100.000000   \n",
       "13592                                  7.216667        100.000000   \n",
       "459                                    7.666667         11.764706   \n",
       "2186                                   8.800000         16.666667   \n",
       "111584                                 8.866667         50.000000   \n",
       "14188                                  9.500000         33.333333   \n",
       "9938                                   9.666667         33.333333   \n",
       "9267                                   9.950000         50.000000   \n",
       "4087                                  10.116667          5.263158   \n",
       "\n",
       "             Refund % of cost  \n",
       "Consumer ID                    \n",
       "14241                6.253155  \n",
       "111695              88.310929  \n",
       "13592               17.637828  \n",
       "459                  2.586442  \n",
       "2186                 4.124251  \n",
       "111584              11.977292  \n",
       "14188               12.055160  \n",
       "9938                 5.880594  \n",
       "9267                12.549571  \n",
       "4087                 4.060977  "
      ]
     },
     "metadata": {},
     "output_type": "display_data"
    }
   ],
   "source": [
    "refund_df[\"Delivery_Minutes\"] = refund_df[\"Driver_time_elapsed\"].dt.seconds/60\n",
    "abuse_check2 = pst_df[pst_df[\"Consumer ID\"].isin(all_refunds.index)].pivot_table(index=\"Consumer ID\", \n",
    "                                                                                      values=\"Refunded amount\", \n",
    "                                                                                      aggfunc=\"count\")\n",
    "abuse_check2 = abuse_check2.join(all_refunds)\n",
    "# Rename columns to approrpriate names\n",
    "abuse_check2.rename({\"Refunded amount\": \"Total Orders\", \"Consumer ID\": \"Refunded Orders\"}, axis=1, inplace=True)\n",
    "\n",
    "# Check how many accounts are refunding 100% of their orders\n",
    "abuse_check2 = abuse_check2.join(pst_df.groupby(\"Consumer ID\")[\"Order total\", \"Refunded amount\"].sum())\n",
    "abuse_check2 = abuse_check2.join(refund_df.groupby(\"Consumer ID\")[\"Delivery_Minutes\"].mean())\n",
    "abuse_check2.rename({\"Refunded amount\": \"Sum of refunds\", \"Order total\": \"Sum of order totals\", \"Delivery_Minutes\":\"Avg Delivery time of refunds (min)\"}, axis=1, inplace=True)\n",
    "\n",
    "abuse_check2[\"Refund frequency\"] = abuse_check2[\"Refunded Orders\"] / abuse_check2[\"Total Orders\"] * 100\n",
    "abuse_check2[\"Refund % of cost\"] = abuse_check2[\"Sum of refunds\"] / abuse_check2[\"Sum of order totals\"] * 100\n",
    "# Sort accounts/refunds by longest Driver_time_elapsed\n",
    "\n",
    "\n",
    "print(\"Refunders with highest average delivery time (of refunded items)\")\n",
    "display(abuse_check2.drop([\"Sum of order totals\", \"Sum of refunds\"], axis=1)\\\n",
    "        .sort_values(\"Avg Delivery time of refunds (min)\", ascending=False).head(10))\n",
    "print(\"Refunders with lowest average delivery time (of refunded items)\")\n",
    "display(abuse_check2.drop([\"Sum of order totals\", \"Sum of refunds\"], axis=1)\\\n",
    "        .sort_values([\"Avg Delivery time of refunds (min)\"], ascending=True).head(10))"
   ]
  },
  {
   "cell_type": "markdown",
   "metadata": {},
   "source": [
    "The customers at the top end of delivery times are all refunding orders that took over 50 minutes to arrive - likely legit. But it does look like at least one of these accounts has a refund frequency of 100. Let's see how common that is"
   ]
  },
  {
   "cell_type": "code",
   "execution_count": 19,
   "metadata": {},
   "outputs": [
    {
     "data": {
      "text/html": [
       "<div>\n",
       "<style scoped>\n",
       "    .dataframe tbody tr th:only-of-type {\n",
       "        vertical-align: middle;\n",
       "    }\n",
       "\n",
       "    .dataframe tbody tr th {\n",
       "        vertical-align: top;\n",
       "    }\n",
       "\n",
       "    .dataframe thead th {\n",
       "        text-align: right;\n",
       "    }\n",
       "</style>\n",
       "<table border=\"1\" class=\"dataframe\">\n",
       "  <thead>\n",
       "    <tr style=\"text-align: right;\">\n",
       "      <th></th>\n",
       "      <th>Total Orders</th>\n",
       "      <th>Avg Delivery time of refunds (min)</th>\n",
       "    </tr>\n",
       "  </thead>\n",
       "  <tbody>\n",
       "    <tr>\n",
       "      <td>count</td>\n",
       "      <td>86.0</td>\n",
       "      <td>62.000000</td>\n",
       "    </tr>\n",
       "    <tr>\n",
       "      <td>mean</td>\n",
       "      <td>1.0</td>\n",
       "      <td>28.814516</td>\n",
       "    </tr>\n",
       "    <tr>\n",
       "      <td>std</td>\n",
       "      <td>0.0</td>\n",
       "      <td>13.861363</td>\n",
       "    </tr>\n",
       "    <tr>\n",
       "      <td>min</td>\n",
       "      <td>1.0</td>\n",
       "      <td>6.833333</td>\n",
       "    </tr>\n",
       "    <tr>\n",
       "      <td>25%</td>\n",
       "      <td>1.0</td>\n",
       "      <td>19.083333</td>\n",
       "    </tr>\n",
       "    <tr>\n",
       "      <td>50%</td>\n",
       "      <td>1.0</td>\n",
       "      <td>25.691667</td>\n",
       "    </tr>\n",
       "    <tr>\n",
       "      <td>75%</td>\n",
       "      <td>1.0</td>\n",
       "      <td>34.441667</td>\n",
       "    </tr>\n",
       "    <tr>\n",
       "      <td>max</td>\n",
       "      <td>1.0</td>\n",
       "      <td>70.966667</td>\n",
       "    </tr>\n",
       "  </tbody>\n",
       "</table>\n",
       "</div>"
      ],
      "text/plain": [
       "       Total Orders  Avg Delivery time of refunds (min)\n",
       "count          86.0                           62.000000\n",
       "mean            1.0                           28.814516\n",
       "std             0.0                           13.861363\n",
       "min             1.0                            6.833333\n",
       "25%             1.0                           19.083333\n",
       "50%             1.0                           25.691667\n",
       "75%             1.0                           34.441667\n",
       "max             1.0                           70.966667"
      ]
     },
     "execution_count": 19,
     "metadata": {},
     "output_type": "execute_result"
    }
   ],
   "source": [
    "abuse_check2[abuse_check2[\"Refund frequency\"] == 100].drop(\"Refund % of cost\", axis=1).describe()[[\"Total Orders\", \"Avg Delivery time of refunds (min)\"]]"
   ]
  },
  {
   "cell_type": "markdown",
   "metadata": {},
   "source": [
    "## Further Analysis Needed\n",
    "Looking at 100% refunded accounts, it isn't surprising that all of these accounts only placed 1 order. Nor is it surprising that some of these refunds were issued for long delivery times - 70 minutes is a lot! \n",
    "\n",
    "What is surprising is that 75% of these refunds were issued for food deliveries that took less than 34 minutes. Given the traffic in the Bay area, 35 minutes is not altogether unreasonable. Did these consumers receive the wrong order? Did they have an unpleasant experience? Were they just abusing the app? We can't know with this dataset, but it deserves further exploration in the future. "
   ]
  },
  {
   "cell_type": "markdown",
   "metadata": {},
   "source": [
    "## Next Steps\n",
    "\n",
    "1. Work with the 10 identified restaurants and reduce the delay in order placement leadtime\n",
    "2. Reevaluate discount frequency in Palo Alto / Mountain View\n",
    "3. Focus growth in San Jose to increase driver tips (and therefore, employee satisfaction)\n",
    "4. Investigate alternative fee structures based on region characteristics\n",
    "5. Explore why customers are refunding quick deliveries (qualitative analysis, surveys)\n",
    "6. Conduct competitive analysis and evaluate how metrics stack compared to competitors such as DoorDash/Uber Eats/Grubhub\n",
    "7. Capture more data per order (e.g. reason for refund, intended delivery time for non-ASAP orders) and create machine learning models to determine which features result in larger tips "
   ]
  },
  {
   "cell_type": "code",
   "execution_count": null,
   "metadata": {},
   "outputs": [],
   "source": []
  }
 ],
 "metadata": {
  "kernelspec": {
   "display_name": "Python 3",
   "language": "python",
   "name": "python3"
  },
  "language_info": {
   "codemirror_mode": {
    "name": "ipython",
    "version": 3
   },
   "file_extension": ".py",
   "mimetype": "text/x-python",
   "name": "python",
   "nbconvert_exporter": "python",
   "pygments_lexer": "ipython3",
   "version": "3.7.4"
  }
 },
 "nbformat": 4,
 "nbformat_minor": 2
}
