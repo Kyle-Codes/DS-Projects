{
 "cells": [
  {
   "cell_type": "markdown",
   "metadata": {
    "dc": {
     "key": "4"
    }
   },
   "source": [
    "## Energy saved from recycling\n",
    "<p>Did you know that recycling saves energy by reducing or eliminating the need to make materials from scratch? For example, aluminum can manufacturers can skip the energy-costly process of producing aluminum from ore by cleaning and melting recycled cans. Aluminum is classified as a non-ferrous metal.</p>\n",
    "<p>Singapore has an ambitious goal of becoming a zero-waste nation. The amount of waste disposed of in Singapore has increased seven-fold over the last 40 years. At this rate, Semakau Landfill, Singapore’s only landfill, will run out of space by 2035. Making matters worse, Singapore has limited land for building new incineration plants or landfills.</p>\n",
    "<p>The government would like to motivate citizens by sharing the total energy that the combined recycling efforts have saved every year. They have asked you to help them.</p>\n",
    "<p>You have been provided with three datasets. The data come from different teams, so the names of waste types may differ.</p>\n",
    "<div style=\"background-color: #efebe4; color: #05192d; text-align:left; vertical-align: middle; padding: 15px 25px 15px 25px; line-height: 1.6;\">\n",
    "    <div style=\"font-size:16px\"><b>datasets/wastestats.csv - Recycling statistics per waste type for the period 2003 to 2017</b>\n",
    "    </div>\n",
    "    <div>Source: <a href=\"https://www.nea.gov.sg/our-services/waste-management/waste-statistics-and-overall-recycling\">Singapore National Environment Agency</a></div>\n",
    "<ul>\n",
    "    <li><b>waste_type: </b>The type of waste recycled.</li>\n",
    "    <li><b>waste_disposed_of_tonne: </b>The amount of waste that could not be recycled (in metric tonnes).</li>\n",
    "    <li><b>total_waste_recycle_tonne: </b>The amount of waste that could be recycled (in metric tonnes).</li>\n",
    "    <li><b>total_waste_generated: </b>The total amount of waste collected before recycling (in metric tonnes).</li>\n",
    "    <li><b>recycling_rate: </b>The amount of waste recycled per tonne of waste generated.</li>\n",
    "    <li><b>year: </b>The recycling year.</li>\n",
    "</ul>\n",
    "    </div>\n",
    "<div style=\"background-color: #efebe4; color: #05192d; text-align:left; vertical-align: middle; padding: 15px 25px 15px 25px; line-height: 1.6; margin-top: 17px;\">\n",
    "    <div style=\"font-size:16px\"><b>datasets/2018_2019_waste.csv - Recycling statistics per waste type for the period 2018 to 2019</b>\n",
    "    </div>\n",
    "    <div> Source: <a href=\"https://www.nea.gov.sg/our-services/waste-management/waste-statistics-and-overall-recycling\">Singapore National Environment Agency</a></div>\n",
    "<ul>\n",
    "    <li><b>Waste Type: </b>The type of waste recycled.</li>\n",
    "    <li><b>Total Generated: </b>The total amount of waste collected before recycling (in thousands of metric tonnes).</li> \n",
    "    <li><b>Total Recycled: </b>The amount of waste that could be recycled. (in thousands of metric tonnes).</li>\n",
    "    <li><b>Year: </b>The recycling year.</li>\n",
    "</ul>\n",
    "    </div>\n",
    "<div style=\"background-color: #efebe4; color: #05192d; text-align:left; vertical-align: middle; padding: 15px 25px 15px 25px; line-height: 1.6; margin-top: 17px;\">\n",
    "    <div style=\"font-size:16px\"><b>datasets/energy_saved.csv -  Estimations of the amount of energy saved per waste type in kWh</b>\n",
    "    </div>\n",
    "<ul>\n",
    "    <li><b>material: </b>The type of waste recycled.</li>\n",
    "    <li><b>energy_saved: </b>An estimate of the energy saved (in kiloWatt hour) by recycling a metric tonne of waste.</li> \n",
    "    <li><b>crude_oil_saved: </b>An estimate of the number of barrels of oil saved by recycling a metric tonne of waste.</li>"
   ]
  },
  {
   "cell_type": "code",
   "execution_count": 120,
   "metadata": {
    "collapsed": true,
    "dc": {
     "key": "4"
    },
    "tags": [
     "sample_code"
    ]
   },
   "outputs": [],
   "source": [
    "import pandas as pd\n",
    "waste03 = pd.read_csv(\"datasets/wastestats.csv\")\n",
    "waste18 = pd.read_csv(\"datasets/2018_2019_waste.csv\")"
   ]
  },
  {
   "cell_type": "code",
   "execution_count": 132,
   "metadata": {
    "dc": {
     "key": "4"
    }
   },
   "outputs": [],
   "source": [
    "waste_types_lower = set(\n",
    "    waste03.waste_type.str.lower().unique().tolist() + \n",
    "    waste18[\"Waste Type\"].str.lower().unique().tolist())"
   ]
  },
  {
   "cell_type": "code",
   "execution_count": 122,
   "metadata": {
    "collapsed": true,
    "dc": {
     "key": "4"
    }
   },
   "outputs": [],
   "source": [
    "valid_waste = {'ferrous metal',\n",
    "    'ferrous metals', \n",
    "    'non-ferrous metal',\n",
    "    'non-ferrous metals', \n",
    "    'plastic',\n",
    "    'plastics',\n",
    "    'glass'}"
   ]
  },
  {
   "cell_type": "code",
   "execution_count": 123,
   "metadata": {
    "dc": {
     "key": "4"
    }
   },
   "outputs": [
    {
     "data": {
      "text/plain": [
       "{'ash & sludge',\n",
       " 'ash and sludge',\n",
       " 'c&d',\n",
       " 'construction debris',\n",
       " 'construction& demolition',\n",
       " 'food',\n",
       " 'food waste',\n",
       " 'horticultural',\n",
       " 'horticultural waste',\n",
       " 'others',\n",
       " 'others (stones, ceramic, rubber, ect)',\n",
       " 'others (stones, ceramic, rubber, etc.)',\n",
       " 'others (stones, ceramics & rubber etc)',\n",
       " 'others (stones, ceramics & rubber etc.)',\n",
       " 'overall',\n",
       " 'paper/cardboard',\n",
       " 'scrap tyres',\n",
       " 'sludge',\n",
       " 'textile/leather',\n",
       " 'total',\n",
       " 'used slag',\n",
       " 'wood',\n",
       " 'wood/timber'}"
      ]
     },
     "execution_count": 123,
     "metadata": {},
     "output_type": "execute_result"
    }
   ],
   "source": [
    "#confirm our valid_waste variable didn't miss any waste types\n",
    "waste_types_lower.difference(valid_waste)"
   ]
  },
  {
   "cell_type": "code",
   "execution_count": 124,
   "metadata": {
    "collapsed": true,
    "dc": {
     "key": "4"
    }
   },
   "outputs": [],
   "source": [
    "waste03[\"Total Generated ('000 tonnes)\"] = waste03[\"total_waste_generated_tonne\"]/1000\n",
    "waste03[\"Total Recycled ('000 tonnes)\"] = waste03[\"total_waste_recycled_tonne\"]/1000\n",
    "\n",
    "unused_columns = [\"recycling_rate\", \"total_waste_generated_tonne\", \"total_waste_recycled_tonne\", \"waste_disposed_of_tonne\"]\n",
    "\n",
    "agg_df = waste03.drop(unused_columns, axis=1)\\\n",
    "    .rename({\"waste_type\":\"Waste Type\", \"year\":\"Year\"}, axis=1)\\\n",
    "    .append(waste18, ignore_index=True)"
   ]
  },
  {
   "cell_type": "code",
   "execution_count": 125,
   "metadata": {
    "dc": {
     "key": "4"
    },
    "scrolled": true
   },
   "outputs": [
    {
     "name": "stdout",
     "output_type": "stream",
     "text": [
      "the table gives the amount of energy saved in kilowatt hour (kwh) and the amount of crude oil (barrels) by recycling 1 metric tonne (1000 kilogram)  per waste type,,,,,\n",
      "1 barrel oil is approximately 159 litres of oil,,,,,\n",
      ",,,,,\n",
      "material,plastic,glass,ferrous metal,non-ferrous metal,paper\n",
      "energy_saved,5774 kwh,42 kwh,642 kwh,14000 kwh,4000 kwh\n",
      "crude_oil saved,16 barrels,,1.8 barrels,40 barrels,1.7 barrels\n"
     ]
    }
   ],
   "source": [
    "with open(r\"datasets/energy_saved.csv\", \"r\") as file:\n",
    "    print(file.read().lower())"
   ]
  },
  {
   "cell_type": "markdown",
   "metadata": {
    "dc": {
     "key": "4"
    }
   },
   "source": [
    "The table gives the amount of energy saved in kilowatt hour (kWh) and the amount of crude oil (barrels) by recycling 1 metric tonne (1000 kilogram) per waste type"
   ]
  },
  {
   "cell_type": "code",
   "execution_count": 126,
   "metadata": {
    "collapsed": true,
    "dc": {
     "key": "4"
    }
   },
   "outputs": [],
   "source": [
    "energy_saved = pd.read_csv(\"datasets/energy_saved.csv\", header=3, index_col=0)\n",
    "energy_saved.columns = energy_saved.columns.str.lower()\n",
    "energy_saved.T"
   ]
  },
  {
   "cell_type": "code",
   "execution_count": 127,
   "metadata": {
    "dc": {
     "key": "4"
    },
    "scrolled": true
   },
   "outputs": [
    {
     "data": {
      "text/html": [
       "<div>\n",
       "<style scoped>\n",
       "    .dataframe tbody tr th:only-of-type {\n",
       "        vertical-align: middle;\n",
       "    }\n",
       "\n",
       "    .dataframe tbody tr th {\n",
       "        vertical-align: top;\n",
       "    }\n",
       "\n",
       "    .dataframe thead th {\n",
       "        text-align: right;\n",
       "    }\n",
       "</style>\n",
       "<table border=\"1\" class=\"dataframe\">\n",
       "  <thead>\n",
       "    <tr style=\"text-align: right;\">\n",
       "      <th>material</th>\n",
       "      <th>energy_saved</th>\n",
       "      <th>crude_oil saved</th>\n",
       "    </tr>\n",
       "  </thead>\n",
       "  <tbody>\n",
       "    <tr>\n",
       "      <th>plastic</th>\n",
       "      <td>5774 Kwh</td>\n",
       "      <td>16 barrels</td>\n",
       "    </tr>\n",
       "    <tr>\n",
       "      <th>glass</th>\n",
       "      <td>42 Kwh</td>\n",
       "      <td>NaN</td>\n",
       "    </tr>\n",
       "    <tr>\n",
       "      <th>ferrous metal</th>\n",
       "      <td>642 Kwh</td>\n",
       "      <td>1.8 barrels</td>\n",
       "    </tr>\n",
       "    <tr>\n",
       "      <th>non-ferrous metal</th>\n",
       "      <td>14000 Kwh</td>\n",
       "      <td>40 barrels</td>\n",
       "    </tr>\n",
       "    <tr>\n",
       "      <th>paper</th>\n",
       "      <td>4000 kWh</td>\n",
       "      <td>1.7 barrels</td>\n",
       "    </tr>\n",
       "  </tbody>\n",
       "</table>\n",
       "</div>"
      ],
      "text/plain": [
       "material          energy_saved crude_oil saved\n",
       "plastic               5774 Kwh      16 barrels\n",
       "glass                   42 Kwh             NaN\n",
       "ferrous metal          642 Kwh     1.8 barrels\n",
       "non-ferrous metal    14000 Kwh      40 barrels\n",
       "paper                 4000 kWh     1.7 barrels"
      ]
     },
     "execution_count": 127,
     "metadata": {},
     "output_type": "execute_result"
    }
   ],
   "source": []
  },
  {
   "cell_type": "code",
   "execution_count": 128,
   "metadata": {
    "dc": {
     "key": "4"
    }
   },
   "outputs": [],
   "source": [
    "cleaned_df = agg_df[agg_df[\"Waste Type\"].str.lower().isin(valid_waste)]\n",
    "cleaned_df[\"Waste Type\"] = cleaned_df[\"Waste Type\"].str.lower()\n",
    "cleaned_df[\"Waste Type\"].replace(\n",
    "    {\"non-ferrous metals\": \"non-ferrous metal\",\n",
    "     \"ferrous metals\": \"ferrous metal\",\n",
    "     \"plastics\": \"plastic\"}, inplace=True)"
   ]
  },
  {
   "cell_type": "code",
   "execution_count": 129,
   "metadata": {
    "dc": {
     "key": "4"
    }
   },
   "outputs": [],
   "source": [
    "cleaned_df = cleaned_df.merge(energy_saved.T, left_on = \"Waste Type\", right_index=True, how=\"left\")\n",
    "cleaned_df[\"energy_saved_int\"] = cleaned_df.energy_saved.apply(lambda x:x.strip(\" Kwh\")).astype(\"int64\")\n",
    "cleaned_df[\"total_energy_saved\"] = cleaned_df[\"energy_saved_int\"] * cleaned_df[\"Total Recycled ('000 tonnes)\"]"
   ]
  },
  {
   "cell_type": "code",
   "execution_count": 130,
   "metadata": {
    "dc": {
     "key": "4"
    },
    "scrolled": true
   },
   "outputs": [],
   "source": [
    "annual_energy_savings = cleaned_df[cleaned_df[\"Year\"].isin([2015,2016,2017,2018,2019])].pivot_table(index=\"Year\", values=\"total_energy_saved\", aggfunc=\"sum\")\n",
    "annual_energy_savings[\"total_energy_saved\"] = annual_energy_savings[\"total_energy_saved\"] * 1000\n",
    "annual_energy_savings.index.rename(\"year\", inplace=True)"
   ]
  },
  {
   "cell_type": "code",
   "execution_count": null,
   "metadata": {
    "dc": {
     "key": "4"
    }
   },
   "outputs": [],
   "source": []
  }
 ],
 "metadata": {
  "kernelspec": {
   "display_name": "Python 3",
   "language": "python",
   "name": "python3"
  },
  "language_info": {
   "codemirror_mode": {
    "name": "ipython",
    "version": 3
   },
   "file_extension": ".py",
   "mimetype": "text/x-python",
   "name": "python",
   "nbconvert_exporter": "python",
   "pygments_lexer": "ipython3",
   "version": "3.7.4"
  }
 },
 "nbformat": 4,
 "nbformat_minor": 2
}
